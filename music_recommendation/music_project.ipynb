{
 "cells": [
  {
   "cell_type": "code",
   "execution_count": 1,
   "metadata": {},
   "outputs": [
    {
     "name": "stderr",
     "output_type": "stream",
     "text": [
      "/home/ubuntu/anaconda3/lib/python3.6/site-packages/matplotlib/__init__.py:1067: UserWarning: Duplicate key in file \"/home/ubuntu/.config/matplotlib/matplotlibrc\", line #2\n",
      "  (fname, cnt))\n",
      "/home/ubuntu/anaconda3/lib/python3.6/site-packages/matplotlib/__init__.py:1067: UserWarning: Duplicate key in file \"/home/ubuntu/.config/matplotlib/matplotlibrc\", line #3\n",
      "  (fname, cnt))\n"
     ]
    }
   ],
   "source": [
    "\n",
    "import pandas as pd\n",
    "import pylab as plt\n",
    "import seaborn\n",
    "from sklearn.linear_model import LinearRegression\n",
    "import numpy.random as nprnd\n",
    "import random\n",
    "import json\n",
    "import numpy as np\n",
    "from sklearn.model_selection import train_test_split\n",
    "from scipy.spatial.distance import cosine\n",
    "from sklearn.metrics import pairwise_distances\n",
    "from scipy.sparse import coo_matrix\n",
    "from sklearn.decomposition import LatentDirichletAllocation\n",
    "import lda\n",
    "\n",
    "pd.set_option('display.max_columns', 500)\n",
    "%matplotlib inline"
   ]
  },
  {
   "cell_type": "markdown",
   "metadata": {},
   "source": [
    "# Data Gathering and Preparation"
   ]
  },
  {
   "cell_type": "markdown",
   "metadata": {},
   "source": [
    "## Data prepocessing and Data integrity checks"
   ]
  },
  {
   "cell_type": "code",
   "execution_count": 2,
   "metadata": {},
   "outputs": [
    {
     "data": {
      "text/html": [
       "<div>\n",
       "<style scoped>\n",
       "    .dataframe tbody tr th:only-of-type {\n",
       "        vertical-align: middle;\n",
       "    }\n",
       "\n",
       "    .dataframe tbody tr th {\n",
       "        vertical-align: top;\n",
       "    }\n",
       "\n",
       "    .dataframe thead th {\n",
       "        text-align: right;\n",
       "    }\n",
       "</style>\n",
       "<table border=\"1\" class=\"dataframe\">\n",
       "  <thead>\n",
       "    <tr style=\"text-align: right;\">\n",
       "      <th></th>\n",
       "      <th>userID</th>\n",
       "      <th>playerID</th>\n",
       "      <th>playNum</th>\n",
       "    </tr>\n",
       "  </thead>\n",
       "  <tbody>\n",
       "    <tr>\n",
       "      <th>0</th>\n",
       "      <td>0</td>\n",
       "      <td>37425</td>\n",
       "      <td>2137</td>\n",
       "    </tr>\n",
       "    <tr>\n",
       "      <th>1</th>\n",
       "      <td>0</td>\n",
       "      <td>152038</td>\n",
       "      <td>1099</td>\n",
       "    </tr>\n",
       "    <tr>\n",
       "      <th>2</th>\n",
       "      <td>0</td>\n",
       "      <td>112364</td>\n",
       "      <td>897</td>\n",
       "    </tr>\n",
       "    <tr>\n",
       "      <th>3</th>\n",
       "      <td>0</td>\n",
       "      <td>38434</td>\n",
       "      <td>717</td>\n",
       "    </tr>\n",
       "    <tr>\n",
       "      <th>4</th>\n",
       "      <td>0</td>\n",
       "      <td>117441</td>\n",
       "      <td>706</td>\n",
       "    </tr>\n",
       "  </tbody>\n",
       "</table>\n",
       "</div>"
      ],
      "text/plain": [
       "   userID  playerID  playNum\n",
       "0       0     37425     2137\n",
       "1       0    152038     1099\n",
       "2       0    112364      897\n",
       "3       0     38434      717\n",
       "4       0    117441      706"
      ]
     },
     "execution_count": 2,
     "metadata": {},
     "output_type": "execute_result"
    }
   ],
   "source": [
    "# Read data\n",
    "df = pd.read_csv(\"music.tsv\",delimiter='\\t',encoding='utf-8',header=None)\n",
    "# Rename the columns\n",
    "df.columns = ['userID','playerID','playerName','playNum']\n",
    "# Remove the missing values\n",
    "df.dropna(inplace=True)\n",
    "# Data cleaning and turned the complicated ID format to the simple one.\n",
    "_, user_id = np.unique(df.userID, return_inverse=True)\n",
    "_, player_id = np.unique(df.playerID, return_inverse=True)\n",
    "df['userID'] = user_id\n",
    "df['playerID'] = player_id\n",
    "df['userID'] = df['userID'].astype(np.int32)\n",
    "df['playerID'] = df['playerID'].astype(np.int32)\n",
    "df['playNum'] = df['playNum'].astype(np.int32)\n",
    "\n",
    "s_player = df[['playerID', 'playerName']].drop_duplicates(subset='playerID').set_index('playerID').sort_index()\n",
    "df.drop('playerName', axis=1, inplace=True)\n",
    "df.head()"
   ]
  },
  {
   "cell_type": "code",
   "execution_count": 3,
   "metadata": {},
   "outputs": [
    {
     "name": "stdout",
     "output_type": "stream",
     "text": [
      "<class 'pandas.core.frame.DataFrame'>\n",
      "Int64Index: 17309316 entries, 0 to 17535654\n",
      "Data columns (total 3 columns):\n",
      "userID      int32\n",
      "playerID    int32\n",
      "playNum     int32\n",
      "dtypes: int32(3)\n",
      "memory usage: 330.1 MB\n"
     ]
    }
   ],
   "source": [
    "df.info()"
   ]
  },
  {
   "cell_type": "code",
   "execution_count": 4,
   "metadata": {},
   "outputs": [
    {
     "name": "stdout",
     "output_type": "stream",
     "text": [
      "358857\n",
      "160110\n",
      "419157\n",
      "0\n",
      "0\n",
      "1\n"
     ]
    }
   ],
   "source": [
    "print(df.userID.max())\n",
    "print(df.playerID.max())\n",
    "print(df.playNum.max())\n",
    "print(df.userID.min())\n",
    "print(df.playerID.min())\n",
    "print(df.playNum.min())"
   ]
  },
  {
   "cell_type": "markdown",
   "metadata": {},
   "source": [
    "## Using SQL"
   ]
  },
  {
   "cell_type": "code",
   "execution_count": 344,
   "metadata": {},
   "outputs": [],
   "source": [
    "from sqlalchemy import create_engine\n",
    "engine = create_engine('sqlite:///:memory:')\n",
    "import sqlite3"
   ]
  },
  {
   "cell_type": "code",
   "execution_count": 345,
   "metadata": {},
   "outputs": [],
   "source": [
    "df.to_sql('data',engine)"
   ]
  },
  {
   "cell_type": "code",
   "execution_count": 346,
   "metadata": {},
   "outputs": [],
   "source": [
    "# connecting to the database \n",
    "connection = sqlite3.connect(\"data.db\")"
   ]
  },
  {
   "cell_type": "code",
   "execution_count": 347,
   "metadata": {},
   "outputs": [
    {
     "data": {
      "text/html": [
       "<div>\n",
       "<style scoped>\n",
       "    .dataframe tbody tr th:only-of-type {\n",
       "        vertical-align: middle;\n",
       "    }\n",
       "\n",
       "    .dataframe tbody tr th {\n",
       "        vertical-align: top;\n",
       "    }\n",
       "\n",
       "    .dataframe thead th {\n",
       "        text-align: right;\n",
       "    }\n",
       "</style>\n",
       "<table border=\"1\" class=\"dataframe\">\n",
       "  <thead>\n",
       "    <tr style=\"text-align: right;\">\n",
       "      <th></th>\n",
       "      <th>COUNT(*)</th>\n",
       "    </tr>\n",
       "  </thead>\n",
       "  <tbody>\n",
       "    <tr>\n",
       "      <th>0</th>\n",
       "      <td>49</td>\n",
       "    </tr>\n",
       "    <tr>\n",
       "      <th>1</th>\n",
       "      <td>51</td>\n",
       "    </tr>\n",
       "    <tr>\n",
       "      <th>2</th>\n",
       "      <td>46</td>\n",
       "    </tr>\n",
       "    <tr>\n",
       "      <th>3</th>\n",
       "      <td>48</td>\n",
       "    </tr>\n",
       "    <tr>\n",
       "      <th>4</th>\n",
       "      <td>49</td>\n",
       "    </tr>\n",
       "    <tr>\n",
       "      <th>5</th>\n",
       "      <td>50</td>\n",
       "    </tr>\n",
       "    <tr>\n",
       "      <th>6</th>\n",
       "      <td>49</td>\n",
       "    </tr>\n",
       "    <tr>\n",
       "      <th>7</th>\n",
       "      <td>55</td>\n",
       "    </tr>\n",
       "    <tr>\n",
       "      <th>8</th>\n",
       "      <td>48</td>\n",
       "    </tr>\n",
       "    <tr>\n",
       "      <th>9</th>\n",
       "      <td>57</td>\n",
       "    </tr>\n",
       "    <tr>\n",
       "      <th>10</th>\n",
       "      <td>53</td>\n",
       "    </tr>\n",
       "    <tr>\n",
       "      <th>11</th>\n",
       "      <td>52</td>\n",
       "    </tr>\n",
       "    <tr>\n",
       "      <th>12</th>\n",
       "      <td>47</td>\n",
       "    </tr>\n",
       "    <tr>\n",
       "      <th>13</th>\n",
       "      <td>44</td>\n",
       "    </tr>\n",
       "    <tr>\n",
       "      <th>14</th>\n",
       "      <td>45</td>\n",
       "    </tr>\n",
       "    <tr>\n",
       "      <th>15</th>\n",
       "      <td>47</td>\n",
       "    </tr>\n",
       "    <tr>\n",
       "      <th>16</th>\n",
       "      <td>43</td>\n",
       "    </tr>\n",
       "    <tr>\n",
       "      <th>17</th>\n",
       "      <td>50</td>\n",
       "    </tr>\n",
       "    <tr>\n",
       "      <th>18</th>\n",
       "      <td>49</td>\n",
       "    </tr>\n",
       "    <tr>\n",
       "      <th>19</th>\n",
       "      <td>50</td>\n",
       "    </tr>\n",
       "    <tr>\n",
       "      <th>20</th>\n",
       "      <td>47</td>\n",
       "    </tr>\n",
       "    <tr>\n",
       "      <th>21</th>\n",
       "      <td>44</td>\n",
       "    </tr>\n",
       "    <tr>\n",
       "      <th>22</th>\n",
       "      <td>34</td>\n",
       "    </tr>\n",
       "    <tr>\n",
       "      <th>23</th>\n",
       "      <td>49</td>\n",
       "    </tr>\n",
       "    <tr>\n",
       "      <th>24</th>\n",
       "      <td>45</td>\n",
       "    </tr>\n",
       "    <tr>\n",
       "      <th>25</th>\n",
       "      <td>49</td>\n",
       "    </tr>\n",
       "    <tr>\n",
       "      <th>26</th>\n",
       "      <td>47</td>\n",
       "    </tr>\n",
       "    <tr>\n",
       "      <th>27</th>\n",
       "      <td>43</td>\n",
       "    </tr>\n",
       "    <tr>\n",
       "      <th>28</th>\n",
       "      <td>49</td>\n",
       "    </tr>\n",
       "    <tr>\n",
       "      <th>29</th>\n",
       "      <td>49</td>\n",
       "    </tr>\n",
       "    <tr>\n",
       "      <th>...</th>\n",
       "      <td>...</td>\n",
       "    </tr>\n",
       "    <tr>\n",
       "      <th>358828</th>\n",
       "      <td>49</td>\n",
       "    </tr>\n",
       "    <tr>\n",
       "      <th>358829</th>\n",
       "      <td>46</td>\n",
       "    </tr>\n",
       "    <tr>\n",
       "      <th>358830</th>\n",
       "      <td>46</td>\n",
       "    </tr>\n",
       "    <tr>\n",
       "      <th>358831</th>\n",
       "      <td>53</td>\n",
       "    </tr>\n",
       "    <tr>\n",
       "      <th>358832</th>\n",
       "      <td>65</td>\n",
       "    </tr>\n",
       "    <tr>\n",
       "      <th>358833</th>\n",
       "      <td>48</td>\n",
       "    </tr>\n",
       "    <tr>\n",
       "      <th>358834</th>\n",
       "      <td>50</td>\n",
       "    </tr>\n",
       "    <tr>\n",
       "      <th>358835</th>\n",
       "      <td>48</td>\n",
       "    </tr>\n",
       "    <tr>\n",
       "      <th>358836</th>\n",
       "      <td>47</td>\n",
       "    </tr>\n",
       "    <tr>\n",
       "      <th>358837</th>\n",
       "      <td>49</td>\n",
       "    </tr>\n",
       "    <tr>\n",
       "      <th>358838</th>\n",
       "      <td>48</td>\n",
       "    </tr>\n",
       "    <tr>\n",
       "      <th>358839</th>\n",
       "      <td>51</td>\n",
       "    </tr>\n",
       "    <tr>\n",
       "      <th>358840</th>\n",
       "      <td>50</td>\n",
       "    </tr>\n",
       "    <tr>\n",
       "      <th>358841</th>\n",
       "      <td>48</td>\n",
       "    </tr>\n",
       "    <tr>\n",
       "      <th>358842</th>\n",
       "      <td>46</td>\n",
       "    </tr>\n",
       "    <tr>\n",
       "      <th>358843</th>\n",
       "      <td>36</td>\n",
       "    </tr>\n",
       "    <tr>\n",
       "      <th>358844</th>\n",
       "      <td>48</td>\n",
       "    </tr>\n",
       "    <tr>\n",
       "      <th>358845</th>\n",
       "      <td>48</td>\n",
       "    </tr>\n",
       "    <tr>\n",
       "      <th>358846</th>\n",
       "      <td>44</td>\n",
       "    </tr>\n",
       "    <tr>\n",
       "      <th>358847</th>\n",
       "      <td>42</td>\n",
       "    </tr>\n",
       "    <tr>\n",
       "      <th>358848</th>\n",
       "      <td>46</td>\n",
       "    </tr>\n",
       "    <tr>\n",
       "      <th>358849</th>\n",
       "      <td>44</td>\n",
       "    </tr>\n",
       "    <tr>\n",
       "      <th>358850</th>\n",
       "      <td>50</td>\n",
       "    </tr>\n",
       "    <tr>\n",
       "      <th>358851</th>\n",
       "      <td>47</td>\n",
       "    </tr>\n",
       "    <tr>\n",
       "      <th>358852</th>\n",
       "      <td>44</td>\n",
       "    </tr>\n",
       "    <tr>\n",
       "      <th>358853</th>\n",
       "      <td>47</td>\n",
       "    </tr>\n",
       "    <tr>\n",
       "      <th>358854</th>\n",
       "      <td>61</td>\n",
       "    </tr>\n",
       "    <tr>\n",
       "      <th>358855</th>\n",
       "      <td>21</td>\n",
       "    </tr>\n",
       "    <tr>\n",
       "      <th>358856</th>\n",
       "      <td>50</td>\n",
       "    </tr>\n",
       "    <tr>\n",
       "      <th>358857</th>\n",
       "      <td>47</td>\n",
       "    </tr>\n",
       "  </tbody>\n",
       "</table>\n",
       "<p>358858 rows × 1 columns</p>\n",
       "</div>"
      ],
      "text/plain": [
       "        COUNT(*)\n",
       "0             49\n",
       "1             51\n",
       "2             46\n",
       "3             48\n",
       "4             49\n",
       "5             50\n",
       "6             49\n",
       "7             55\n",
       "8             48\n",
       "9             57\n",
       "10            53\n",
       "11            52\n",
       "12            47\n",
       "13            44\n",
       "14            45\n",
       "15            47\n",
       "16            43\n",
       "17            50\n",
       "18            49\n",
       "19            50\n",
       "20            47\n",
       "21            44\n",
       "22            34\n",
       "23            49\n",
       "24            45\n",
       "25            49\n",
       "26            47\n",
       "27            43\n",
       "28            49\n",
       "29            49\n",
       "...          ...\n",
       "358828        49\n",
       "358829        46\n",
       "358830        46\n",
       "358831        53\n",
       "358832        65\n",
       "358833        48\n",
       "358834        50\n",
       "358835        48\n",
       "358836        47\n",
       "358837        49\n",
       "358838        48\n",
       "358839        51\n",
       "358840        50\n",
       "358841        48\n",
       "358842        46\n",
       "358843        36\n",
       "358844        48\n",
       "358845        48\n",
       "358846        44\n",
       "358847        42\n",
       "358848        46\n",
       "358849        44\n",
       "358850        50\n",
       "358851        47\n",
       "358852        44\n",
       "358853        47\n",
       "358854        61\n",
       "358855        21\n",
       "358856        50\n",
       "358857        47\n",
       "\n",
       "[358858 rows x 1 columns]"
      ]
     },
     "execution_count": 347,
     "metadata": {},
     "output_type": "execute_result"
    }
   ],
   "source": [
    "pd.read_sql_query('SELECT COUNT(*) FROM data GROUP BY userID', engine)"
   ]
  },
  {
   "cell_type": "code",
   "execution_count": 348,
   "metadata": {},
   "outputs": [
    {
     "data": {
      "text/html": [
       "<div>\n",
       "<style scoped>\n",
       "    .dataframe tbody tr th:only-of-type {\n",
       "        vertical-align: middle;\n",
       "    }\n",
       "\n",
       "    .dataframe tbody tr th {\n",
       "        vertical-align: top;\n",
       "    }\n",
       "\n",
       "    .dataframe thead th {\n",
       "        text-align: right;\n",
       "    }\n",
       "</style>\n",
       "<table border=\"1\" class=\"dataframe\">\n",
       "  <thead>\n",
       "    <tr style=\"text-align: right;\">\n",
       "      <th></th>\n",
       "      <th>playerID</th>\n",
       "      <th>number</th>\n",
       "    </tr>\n",
       "  </thead>\n",
       "  <tbody>\n",
       "    <tr>\n",
       "      <th>0</th>\n",
       "      <td>104608</td>\n",
       "      <td>77254</td>\n",
       "    </tr>\n",
       "    <tr>\n",
       "      <th>1</th>\n",
       "      <td>110770</td>\n",
       "      <td>76271</td>\n",
       "    </tr>\n",
       "    <tr>\n",
       "      <th>2</th>\n",
       "      <td>127797</td>\n",
       "      <td>66658</td>\n",
       "    </tr>\n",
       "    <tr>\n",
       "      <th>3</th>\n",
       "      <td>87685</td>\n",
       "      <td>48930</td>\n",
       "    </tr>\n",
       "    <tr>\n",
       "      <th>4</th>\n",
       "      <td>97938</td>\n",
       "      <td>46954</td>\n",
       "    </tr>\n",
       "    <tr>\n",
       "      <th>5</th>\n",
       "      <td>63907</td>\n",
       "      <td>45233</td>\n",
       "    </tr>\n",
       "    <tr>\n",
       "      <th>6</th>\n",
       "      <td>82630</td>\n",
       "      <td>44444</td>\n",
       "    </tr>\n",
       "    <tr>\n",
       "      <th>7</th>\n",
       "      <td>93784</td>\n",
       "      <td>41229</td>\n",
       "    </tr>\n",
       "    <tr>\n",
       "      <th>8</th>\n",
       "      <td>153687</td>\n",
       "      <td>39778</td>\n",
       "    </tr>\n",
       "    <tr>\n",
       "      <th>9</th>\n",
       "      <td>127760</td>\n",
       "      <td>37271</td>\n",
       "    </tr>\n",
       "    <tr>\n",
       "      <th>10</th>\n",
       "      <td>2185</td>\n",
       "      <td>34174</td>\n",
       "    </tr>\n",
       "    <tr>\n",
       "      <th>11</th>\n",
       "      <td>102399</td>\n",
       "      <td>33206</td>\n",
       "    </tr>\n",
       "    <tr>\n",
       "      <th>12</th>\n",
       "      <td>3341</td>\n",
       "      <td>33001</td>\n",
       "    </tr>\n",
       "    <tr>\n",
       "      <th>13</th>\n",
       "      <td>66397</td>\n",
       "      <td>32626</td>\n",
       "    </tr>\n",
       "    <tr>\n",
       "      <th>14</th>\n",
       "      <td>64894</td>\n",
       "      <td>32296</td>\n",
       "    </tr>\n",
       "    <tr>\n",
       "      <th>15</th>\n",
       "      <td>83018</td>\n",
       "      <td>32072</td>\n",
       "    </tr>\n",
       "    <tr>\n",
       "      <th>16</th>\n",
       "      <td>83461</td>\n",
       "      <td>31918</td>\n",
       "    </tr>\n",
       "    <tr>\n",
       "      <th>17</th>\n",
       "      <td>52777</td>\n",
       "      <td>31864</td>\n",
       "    </tr>\n",
       "    <tr>\n",
       "      <th>18</th>\n",
       "      <td>71950</td>\n",
       "      <td>31800</td>\n",
       "    </tr>\n",
       "    <tr>\n",
       "      <th>19</th>\n",
       "      <td>149</td>\n",
       "      <td>31483</td>\n",
       "    </tr>\n",
       "    <tr>\n",
       "      <th>20</th>\n",
       "      <td>83740</td>\n",
       "      <td>31150</td>\n",
       "    </tr>\n",
       "    <tr>\n",
       "      <th>21</th>\n",
       "      <td>108565</td>\n",
       "      <td>30358</td>\n",
       "    </tr>\n",
       "    <tr>\n",
       "      <th>22</th>\n",
       "      <td>65150</td>\n",
       "      <td>30144</td>\n",
       "    </tr>\n",
       "    <tr>\n",
       "      <th>23</th>\n",
       "      <td>110356</td>\n",
       "      <td>29772</td>\n",
       "    </tr>\n",
       "    <tr>\n",
       "      <th>24</th>\n",
       "      <td>115107</td>\n",
       "      <td>28949</td>\n",
       "    </tr>\n",
       "    <tr>\n",
       "      <th>25</th>\n",
       "      <td>154465</td>\n",
       "      <td>28933</td>\n",
       "    </tr>\n",
       "    <tr>\n",
       "      <th>26</th>\n",
       "      <td>5092</td>\n",
       "      <td>28734</td>\n",
       "    </tr>\n",
       "    <tr>\n",
       "      <th>27</th>\n",
       "      <td>10376</td>\n",
       "      <td>28691</td>\n",
       "    </tr>\n",
       "    <tr>\n",
       "      <th>28</th>\n",
       "      <td>140263</td>\n",
       "      <td>28217</td>\n",
       "    </tr>\n",
       "    <tr>\n",
       "      <th>29</th>\n",
       "      <td>89804</td>\n",
       "      <td>28072</td>\n",
       "    </tr>\n",
       "    <tr>\n",
       "      <th>...</th>\n",
       "      <td>...</td>\n",
       "      <td>...</td>\n",
       "    </tr>\n",
       "    <tr>\n",
       "      <th>160081</th>\n",
       "      <td>159995</td>\n",
       "      <td>1</td>\n",
       "    </tr>\n",
       "    <tr>\n",
       "      <th>160082</th>\n",
       "      <td>160000</td>\n",
       "      <td>1</td>\n",
       "    </tr>\n",
       "    <tr>\n",
       "      <th>160083</th>\n",
       "      <td>160003</td>\n",
       "      <td>1</td>\n",
       "    </tr>\n",
       "    <tr>\n",
       "      <th>160084</th>\n",
       "      <td>160007</td>\n",
       "      <td>1</td>\n",
       "    </tr>\n",
       "    <tr>\n",
       "      <th>160085</th>\n",
       "      <td>160009</td>\n",
       "      <td>1</td>\n",
       "    </tr>\n",
       "    <tr>\n",
       "      <th>160086</th>\n",
       "      <td>160012</td>\n",
       "      <td>1</td>\n",
       "    </tr>\n",
       "    <tr>\n",
       "      <th>160087</th>\n",
       "      <td>160018</td>\n",
       "      <td>1</td>\n",
       "    </tr>\n",
       "    <tr>\n",
       "      <th>160088</th>\n",
       "      <td>160020</td>\n",
       "      <td>1</td>\n",
       "    </tr>\n",
       "    <tr>\n",
       "      <th>160089</th>\n",
       "      <td>160021</td>\n",
       "      <td>1</td>\n",
       "    </tr>\n",
       "    <tr>\n",
       "      <th>160090</th>\n",
       "      <td>160028</td>\n",
       "      <td>1</td>\n",
       "    </tr>\n",
       "    <tr>\n",
       "      <th>160091</th>\n",
       "      <td>160037</td>\n",
       "      <td>1</td>\n",
       "    </tr>\n",
       "    <tr>\n",
       "      <th>160092</th>\n",
       "      <td>160040</td>\n",
       "      <td>1</td>\n",
       "    </tr>\n",
       "    <tr>\n",
       "      <th>160093</th>\n",
       "      <td>160042</td>\n",
       "      <td>1</td>\n",
       "    </tr>\n",
       "    <tr>\n",
       "      <th>160094</th>\n",
       "      <td>160043</td>\n",
       "      <td>1</td>\n",
       "    </tr>\n",
       "    <tr>\n",
       "      <th>160095</th>\n",
       "      <td>160055</td>\n",
       "      <td>1</td>\n",
       "    </tr>\n",
       "    <tr>\n",
       "      <th>160096</th>\n",
       "      <td>160056</td>\n",
       "      <td>1</td>\n",
       "    </tr>\n",
       "    <tr>\n",
       "      <th>160097</th>\n",
       "      <td>160057</td>\n",
       "      <td>1</td>\n",
       "    </tr>\n",
       "    <tr>\n",
       "      <th>160098</th>\n",
       "      <td>160069</td>\n",
       "      <td>1</td>\n",
       "    </tr>\n",
       "    <tr>\n",
       "      <th>160099</th>\n",
       "      <td>160072</td>\n",
       "      <td>1</td>\n",
       "    </tr>\n",
       "    <tr>\n",
       "      <th>160100</th>\n",
       "      <td>160073</td>\n",
       "      <td>1</td>\n",
       "    </tr>\n",
       "    <tr>\n",
       "      <th>160101</th>\n",
       "      <td>160074</td>\n",
       "      <td>1</td>\n",
       "    </tr>\n",
       "    <tr>\n",
       "      <th>160102</th>\n",
       "      <td>160076</td>\n",
       "      <td>1</td>\n",
       "    </tr>\n",
       "    <tr>\n",
       "      <th>160103</th>\n",
       "      <td>160077</td>\n",
       "      <td>1</td>\n",
       "    </tr>\n",
       "    <tr>\n",
       "      <th>160104</th>\n",
       "      <td>160080</td>\n",
       "      <td>1</td>\n",
       "    </tr>\n",
       "    <tr>\n",
       "      <th>160105</th>\n",
       "      <td>160081</td>\n",
       "      <td>1</td>\n",
       "    </tr>\n",
       "    <tr>\n",
       "      <th>160106</th>\n",
       "      <td>160083</td>\n",
       "      <td>1</td>\n",
       "    </tr>\n",
       "    <tr>\n",
       "      <th>160107</th>\n",
       "      <td>160085</td>\n",
       "      <td>1</td>\n",
       "    </tr>\n",
       "    <tr>\n",
       "      <th>160108</th>\n",
       "      <td>160088</td>\n",
       "      <td>1</td>\n",
       "    </tr>\n",
       "    <tr>\n",
       "      <th>160109</th>\n",
       "      <td>160093</td>\n",
       "      <td>1</td>\n",
       "    </tr>\n",
       "    <tr>\n",
       "      <th>160110</th>\n",
       "      <td>160110</td>\n",
       "      <td>1</td>\n",
       "    </tr>\n",
       "  </tbody>\n",
       "</table>\n",
       "<p>160111 rows × 2 columns</p>\n",
       "</div>"
      ],
      "text/plain": [
       "        playerID  number\n",
       "0         104608   77254\n",
       "1         110770   76271\n",
       "2         127797   66658\n",
       "3          87685   48930\n",
       "4          97938   46954\n",
       "5          63907   45233\n",
       "6          82630   44444\n",
       "7          93784   41229\n",
       "8         153687   39778\n",
       "9         127760   37271\n",
       "10          2185   34174\n",
       "11        102399   33206\n",
       "12          3341   33001\n",
       "13         66397   32626\n",
       "14         64894   32296\n",
       "15         83018   32072\n",
       "16         83461   31918\n",
       "17         52777   31864\n",
       "18         71950   31800\n",
       "19           149   31483\n",
       "20         83740   31150\n",
       "21        108565   30358\n",
       "22         65150   30144\n",
       "23        110356   29772\n",
       "24        115107   28949\n",
       "25        154465   28933\n",
       "26          5092   28734\n",
       "27         10376   28691\n",
       "28        140263   28217\n",
       "29         89804   28072\n",
       "...          ...     ...\n",
       "160081    159995       1\n",
       "160082    160000       1\n",
       "160083    160003       1\n",
       "160084    160007       1\n",
       "160085    160009       1\n",
       "160086    160012       1\n",
       "160087    160018       1\n",
       "160088    160020       1\n",
       "160089    160021       1\n",
       "160090    160028       1\n",
       "160091    160037       1\n",
       "160092    160040       1\n",
       "160093    160042       1\n",
       "160094    160043       1\n",
       "160095    160055       1\n",
       "160096    160056       1\n",
       "160097    160057       1\n",
       "160098    160069       1\n",
       "160099    160072       1\n",
       "160100    160073       1\n",
       "160101    160074       1\n",
       "160102    160076       1\n",
       "160103    160077       1\n",
       "160104    160080       1\n",
       "160105    160081       1\n",
       "160106    160083       1\n",
       "160107    160085       1\n",
       "160108    160088       1\n",
       "160109    160093       1\n",
       "160110    160110       1\n",
       "\n",
       "[160111 rows x 2 columns]"
      ]
     },
     "execution_count": 348,
     "metadata": {},
     "output_type": "execute_result"
    }
   ],
   "source": [
    "pd.read_sql_query('SELECT playerID,COUNT(*) AS number FROM data GROUP BY playerID ORDER BY number DESC', engine)"
   ]
  },
  {
   "cell_type": "markdown",
   "metadata": {},
   "source": [
    "## Fature Engineering"
   ]
  },
  {
   "cell_type": "code",
   "execution_count": 5,
   "metadata": {},
   "outputs": [],
   "source": [
    "# pivot the matrix using sparse matrix. A low is a user, and each columns is the artist he listened, the values are the play times.\n",
    "user_item_sp_mat = coo_matrix((df.playNum, (df.userID, df.playerID)), (df.userID.max()+1, df.playerID.max()+1), dtype=np.int32)"
   ]
  },
  {
   "cell_type": "code",
   "execution_count": 60,
   "metadata": {},
   "outputs": [
    {
     "data": {
      "text/plain": [
       "<358858x160111 sparse matrix of type '<class 'numpy.int32'>'\n",
       "\twith 17309316 stored elements in COOrdinate format>"
      ]
     },
     "execution_count": 60,
     "metadata": {},
     "output_type": "execute_result"
    }
   ],
   "source": [
    "user_item_sp_mat"
   ]
  },
  {
   "cell_type": "markdown",
   "metadata": {},
   "source": [
    "# Model Selection, Comparison"
   ]
  },
  {
   "cell_type": "markdown",
   "metadata": {},
   "source": [
    "#### This is a unsupervised Problem. We used Latent Dirichlet allocation(LDA) to do the dimensions reduction which is clustering. We divided 160k artists into 20 class, according to the taste of users which is the latent variable.\n"
   ]
  },
  {
   "cell_type": "code",
   "execution_count": null,
   "metadata": {},
   "outputs": [
    {
     "name": "stderr",
     "output_type": "stream",
     "text": [
      "/home/ubuntu/anaconda3/lib/python3.6/site-packages/sklearn/decomposition/online_lda.py:536: DeprecationWarning: The default value for 'learning_method' will be changed from 'online' to 'batch' in the release 0.20. This warning was introduced in 0.18.\n",
      "  DeprecationWarning)\n"
     ]
    }
   ],
   "source": [
    "# Run LDA model\n",
    "lda = LatentDirichletAllocation(n_components=20, max_iter=10, random_state=0)\n",
    "lda.fit(user_item_sp_mat)"
   ]
  },
  {
   "cell_type": "code",
   "execution_count": 293,
   "metadata": {},
   "outputs": [
    {
     "data": {
      "text/plain": [
       "array([[1.18521996e-02, 3.14321198e-01, 2.30725647e-01, ...,\n",
       "        2.98017515e-02, 1.22660813e-02, 2.99096728e-06],\n",
       "       [4.37706330e-02, 4.16937677e-07, 4.16937676e-07, ...,\n",
       "        4.16937677e-07, 1.88498698e-01, 7.73175606e-02],\n",
       "       [3.59918720e-01, 8.66400970e-06, 8.66400970e-06, ...,\n",
       "        8.66400979e-06, 4.32492087e-02, 5.84304083e-01],\n",
       "       ...,\n",
       "       [9.24385285e-06, 4.30781116e-02, 5.99731800e-02, ...,\n",
       "        1.04622041e-01, 4.14335390e-01, 3.14396062e-02],\n",
       "       [6.71952695e-06, 6.71952696e-06, 4.30781335e-01, ...,\n",
       "        1.66631953e-02, 6.71952695e-06, 6.71952695e-06],\n",
       "       [8.48303239e-03, 8.71115999e-03, 3.36927224e-05, ...,\n",
       "        3.36927225e-05, 1.91746895e-02, 3.36927231e-05]])"
      ]
     },
     "execution_count": 293,
     "metadata": {},
     "output_type": "execute_result"
    }
   ],
   "source": [
    "lda.transform(user_item_sp_mat)"
   ]
  },
  {
   "cell_type": "markdown",
   "metadata": {},
   "source": [
    "## Check the comparable number of points in each cluster."
   ]
  },
  {
   "cell_type": "code",
   "execution_count": 104,
   "metadata": {},
   "outputs": [
    {
     "name": "stdout",
     "output_type": "stream",
     "text": [
      "160111\n",
      "160111\n",
      "160111\n",
      "160111\n",
      "160111\n",
      "160111\n",
      "160111\n",
      "160111\n",
      "160111\n",
      "160111\n",
      "160111\n",
      "160111\n",
      "160111\n",
      "160111\n",
      "160111\n",
      "160111\n",
      "160111\n",
      "160111\n",
      "160111\n",
      "160111\n"
     ]
    }
   ],
   "source": [
    "for i in range(0,20):\n",
    "    print(lda.components_[[i]].size)"
   ]
  },
  {
   "cell_type": "code",
   "execution_count": 119,
   "metadata": {},
   "outputs": [
    {
     "name": "stdout",
     "output_type": "stream",
     "text": [
      "9.985488059739923\n",
      "9.237519103879476\n",
      "13.94716914225564\n",
      "24.188243784157514\n",
      "77.32077605494896\n",
      "3.872186868157884\n",
      "13.20738904576523\n",
      "30.639151373011092\n",
      "6.211481279179348\n",
      "3.35539908088835\n",
      "19.632366139391845\n",
      "35.939598047667516\n",
      "50.592676166473446\n",
      "10.871454803867735\n",
      "27.260207464677848\n",
      "7.08892510033816\n",
      "2.0340641561144874\n",
      "46.088457479196805\n",
      "2.9897377197721373\n"
     ]
    }
   ],
   "source": [
    "# Check the covariance. In each cluster, inoder to check, we over it with 100000000\n",
    "for i in range(0,19):\n",
    "    print(np.cov(lda.components_[[i]])/100000000)"
   ]
  },
  {
   "cell_type": "markdown",
   "metadata": {},
   "source": [
    "#### we can see that each cluster contains the same point number and in each cluster, the points are hight corrected with each other."
   ]
  },
  {
   "cell_type": "markdown",
   "metadata": {},
   "source": [
    "## Interpretations for the clusters "
   ]
  },
  {
   "cell_type": "code",
   "execution_count": 21,
   "metadata": {},
   "outputs": [],
   "source": [
    "def print_top_words(model, feature_names, n_top_words):\n",
    "    for topic_idx, topic in enumerate(model.components_):\n",
    "        message = \"Topic #%d: \" % topic_idx\n",
    "        message += \", \".join([feature_names[i]\n",
    "                             for i in topic.argsort()[:-n_top_words - 1:-1]])\n",
    "        print(message)\n",
    "    print()"
   ]
  },
  {
   "cell_type": "code",
   "execution_count": 122,
   "metadata": {},
   "outputs": [
    {
     "name": "stdout",
     "output_type": "stream",
     "text": [
      "Topic #0: tom waits, sonic youth, animal collective, pixies, the magnetic fields\n",
      "Topic #1: nofx, bad religion, misfits, ramones, dropkick murphys\n",
      "Topic #2: nightwish, sonata arctica, blind guardian, kamelot, apocalyptica\n",
      "Topic #3: blink-182, fall out boy, my chemical romance, paramore, rise against\n",
      "Topic #4: the beatles, bob dylan, the rolling stones, johnny cash, u2\n",
      "Topic #5: miles davis, frank sinatra, johann sebastian bach, norah jones, amy winehouse\n",
      "Topic #6: opeth, in flames, slayer, katatonia, amon amarth\n",
      "Topic #7: pink floyd, metallica, iron maiden, ac/dc, queen\n",
      "Topic #8: tori amos, enya, hans zimmer, enigma, yann tiersen\n",
      "Topic #9: dir en grey, as i lay dying, bring me the horizon, larc~en~ciel, parkway drive\n",
      "Topic #10: red hot chili peppers, tool, queens of the stone age, foo fighters, incubus\n",
      "Topic #11: system of a down, linkin park, rammstein, in flames, koЯn\n",
      "Topic #12: radiohead, death cab for cutie, arctic monkeys, bloc party, sufjan stevens\n",
      "Topic #13: kanye west, lil wayne, eminem, 2pac, nas\n",
      "Topic #14: coldplay, britney spears, madonna, avril lavigne, the killers\n",
      "Topic #15: boards of canada, aphex twin, daft punk, the prodigy, burial\n",
      "Topic #16: kent, böhse onkelz, lars winnerbäck, håkan hellström, cmx\n",
      "Topic #17: radiohead, nine inch nails, muse, placebo, björk\n",
      "Topic #18: explosions in the sky, mogwai, god is an astronaut, 65daysofstatic, converge\n",
      "Topic #19: the cure, depeche mode, the smiths, morrissey, joy division\n",
      "\n"
     ]
    }
   ],
   "source": [
    "print_top_words(lda, s_player.playerName, 5)"
   ]
  },
  {
   "cell_type": "markdown",
   "metadata": {},
   "source": [
    "#### We have 20 classes of artists now. We choose some classes to check the style of those artists. Topic 0 seems like Rock. Topic 1 is punk rock. We can conclude that if a user likes an artist in topic0, he also may like others artists in the same topic."
   ]
  },
  {
   "cell_type": "markdown",
   "metadata": {},
   "source": [
    "## Investigate properties of those clusters"
   ]
  },
  {
   "cell_type": "code",
   "execution_count": 123,
   "metadata": {},
   "outputs": [
    {
     "data": {
      "text/plain": [
       "['lda.pkl']"
      ]
     },
     "execution_count": 123,
     "metadata": {},
     "output_type": "execute_result"
    }
   ],
   "source": [
    "from sklearn.externals import joblib\n",
    "joblib.dump(lda, 'lda.pkl')"
   ]
  },
  {
   "cell_type": "code",
   "execution_count": 127,
   "metadata": {},
   "outputs": [
    {
     "data": {
      "text/plain": [
       "(20, 160111)"
      ]
     },
     "execution_count": 127,
     "metadata": {},
     "output_type": "execute_result"
    }
   ],
   "source": [
    "lda.components_.shape"
   ]
  },
  {
   "cell_type": "code",
   "execution_count": 30,
   "metadata": {},
   "outputs": [
    {
     "data": {
      "text/plain": [
       "(358858, 20)"
      ]
     },
     "execution_count": 30,
     "metadata": {},
     "output_type": "execute_result"
    }
   ],
   "source": [
    "user_components = lda.transform(user_item_sp_mat)\n",
    "user_components.shape"
   ]
  },
  {
   "cell_type": "markdown",
   "metadata": {},
   "source": [
    "#### We reduced the dimensions of the original user-artist matrix into two matrixs. One is use 20 classes to represent users, according to the artists, the other one use 20 classes to represent artists, according to the users."
   ]
  },
  {
   "cell_type": "markdown",
   "metadata": {},
   "source": [
    "### The process to use the model. Input is a artist's name and output is the artist(s) in the same style."
   ]
  },
  {
   "cell_type": "code",
   "execution_count": 240,
   "metadata": {},
   "outputs": [],
   "source": [
    "def getName(name):\n",
    "    for i in range(s_player.shape[0]):\n",
    "        if s_player.iloc[i].playerName == name:\n",
    "            topic=lda.components_[:, i].argmax()\n",
    "            for j in range(0,9):\n",
    "                artists = lda.components_[[topic]].argsort(axis=1)\n",
    "                if s_player.iloc[artists[0][-j]].playerName == name:\n",
    "                    continue;\n",
    "                else:\n",
    "                    print(s_player.iloc[artists[0][-j]].playerName)"
   ]
  },
  {
   "cell_type": "code",
   "execution_count": 241,
   "metadata": {},
   "outputs": [
    {
     "name": "stdout",
     "output_type": "stream",
     "text": [
      "back 2 bass\n",
      "nofx\n",
      "misfits\n",
      "ramones\n",
      "dropkick murphys\n",
      "rancid\n",
      "against me!\n",
      "the clash\n"
     ]
    }
   ],
   "source": [
    "getName('bad religion')"
   ]
  },
  {
   "cell_type": "code",
   "execution_count": null,
   "metadata": {},
   "outputs": [],
   "source": [
    "name = input(\"Enter the name of artist\")\n",
    "print(\"The artists that you would like\")\n",
    "getName(name)"
   ]
  },
  {
   "cell_type": "markdown",
   "metadata": {},
   "source": [
    "## clusters stable"
   ]
  },
  {
   "cell_type": "code",
   "execution_count": 269,
   "metadata": {},
   "outputs": [],
   "source": [
    "sample = df.iloc[0:100000]"
   ]
  },
  {
   "cell_type": "code",
   "execution_count": 271,
   "metadata": {},
   "outputs": [],
   "source": [
    "# pivot the matrix using sparse matrix. A low is a user, and each columns is the artist he listened, the values are the play times.\n",
    "user_item_sp_mat_1 = coo_matrix((sample.playNum, (sample.userID, sample.playerID)), (sample.userID.max()+1, sample.playerID.max()+1), dtype=np.int32)"
   ]
  },
  {
   "cell_type": "code",
   "execution_count": 290,
   "metadata": {},
   "outputs": [
    {
     "name": "stderr",
     "output_type": "stream",
     "text": [
      "/home/ubuntu/anaconda3/lib/python3.6/site-packages/sklearn/decomposition/online_lda.py:536: DeprecationWarning: The default value for 'learning_method' will be changed from 'online' to 'batch' in the release 0.20. This warning was introduced in 0.18.\n",
      "  DeprecationWarning)\n"
     ]
    },
    {
     "name": "stdout",
     "output_type": "stream",
     "text": [
      "Topic #0: bad religion, nofx, misfits, rancid, the clash\n",
      "Topic #1: coldplay, john mayer, moby, keane, hans zimmer\n",
      "Topic #2: metallica, koЯn, system of a down, die Ärzte, ac/dc\n",
      "Topic #3: muse, red hot chili peppers, system of a down, pink floyd, nirvana\n",
      "Topic #4: nine inch nails, queens of the stone age, radiohead, the cure, depeche mode\n",
      "Topic #5: radiohead, sigur rós, bright eyes, boards of canada, broken social scene\n",
      "Topic #6: the beatles, jack johnson, led zeppelin, oasis, the rolling stones\n",
      "Topic #7: Последние Танки в Париже, sonata arctica, bob marley, within temptation, nightwish\n",
      "Topic #8: garbage, the cardigans, lady gaga, metric, thomas dybdahl\n",
      "Topic #9: lil wayne, daft punk, new order, radiohead, ryan adams\n",
      "Topic #10: iron maiden, slayer, café tacuba, opeth, megadeth\n",
      "Topic #11: bob dylan, tom waits, elliott smith, ray lamontagne, johnny cash\n",
      "Topic #12: kanye west, atb, 50 cent, jay-z, the game\n",
      "Topic #13: diary of dreams, clock dva, apoptygma berzerk, skinny puppy, kmfdm\n",
      "Topic #14: tori amos, björk, nouvelle vague, kent, thievery corporation\n",
      "Topic #15: britney spears, rihanna, o.s.t.r., 植松伸夫, beyoncé\n",
      "Topic #16: madonna, amy winehouse, kylie minogue, michael jackson, superfly\n",
      "Topic #17: rise against, linkin park, fall out boy, blink-182, paramore\n",
      "Topic #18: in flames, as i lay dying, linkin park, placebo, all shall perish\n",
      "Topic #19: 梶浦由記, caetano veloso, mitsumune shinkichi, illya kuryaki and the valderramas, nagaoka seikou\n",
      "\n"
     ]
    }
   ],
   "source": [
    "# Run LDA model time1\n",
    "lda_2 = LatentDirichletAllocation(n_components=20, max_iter=10)\n",
    "lda_2.fit(user_item_sp_mat_1)\n",
    "lda_2.transform(user_item_sp_mat_1)\n",
    "print_top_words(lda_2, s_player.playerName, 5)"
   ]
  },
  {
   "cell_type": "code",
   "execution_count": 288,
   "metadata": {},
   "outputs": [
    {
     "name": "stderr",
     "output_type": "stream",
     "text": [
      "/home/ubuntu/anaconda3/lib/python3.6/site-packages/sklearn/decomposition/online_lda.py:536: DeprecationWarning: The default value for 'learning_method' will be changed from 'online' to 'batch' in the release 0.20. This warning was introduced in 0.18.\n",
      "  DeprecationWarning)\n"
     ]
    },
    {
     "name": "stdout",
     "output_type": "stream",
     "text": [
      "Topic #0: stars, the most serene republic, broken social scene, have heart, bright eyes\n",
      "Topic #1: madonna, britney spears, lady gaga, kylie minogue, michael jackson\n",
      "Topic #2: new order, the cure, nine inch nails, depeche mode, joy division\n",
      "Topic #3: sublime, jack johnson, nouvelle vague, 植松伸夫, amy winehouse\n",
      "Topic #4: depeche mode, muse, daft punk, the prodigy, coldplay\n",
      "Topic #5: kanye west, john mayer, rihanna, kent, timbaland\n",
      "Topic #6: the beatles, pink floyd, led zeppelin, oasis, radiohead\n",
      "Topic #7: garbage, bad religion, the cardigans, thomas dybdahl, metric\n",
      "Topic #8: 梶浦由記, the pillows, dir en grey, mitsumune shinkichi, くるり\n",
      "Topic #9: as i lay dying, the devil wears prada, coheed and cambria, all shall perish, brand new\n",
      "Topic #10: boards of canada, radiohead, aphex twin, tom waits, pj harvey\n",
      "Topic #11: ryan adams, modest mouse, the magnetic fields, belle and sebastian, pavement\n",
      "Topic #12: bob dylan, the beatles, ac/dc, the rolling stones, led zeppelin\n",
      "Topic #13: anathema, death, o.s.t.r., ulver, napalm death\n",
      "Topic #14: linkin park, placebo, death cab for cutie, the offspring, muse\n",
      "Topic #15: Последние Танки в Париже, pain of salvation, fresno, symphony x, johann sebastian bach\n",
      "Topic #16: rise against, fall out boy, the killers, arctic monkeys, die Ärzte\n",
      "Topic #17: lil wayne, café tacuba, kanye west, j dilla, atmosphere\n",
      "Topic #18: metallica, in flames, iron maiden, system of a down, koЯn\n",
      "Topic #19: radiohead, nine inch nails, sigur rós, the cure, sufjan stevens\n",
      "\n"
     ]
    }
   ],
   "source": [
    "# Run LDA model time2\n",
    "lda_1 = LatentDirichletAllocation(n_components=20, max_iter=10)\n",
    "lda_1.fit(user_item_sp_mat_1)\n",
    "lda_1.transform(user_item_sp_mat_1)\n",
    "print_top_words(lda_1, s_player.playerName, 5)"
   ]
  },
  {
   "cell_type": "code",
   "execution_count": 289,
   "metadata": {},
   "outputs": [
    {
     "name": "stderr",
     "output_type": "stream",
     "text": [
      "/home/ubuntu/anaconda3/lib/python3.6/site-packages/sklearn/decomposition/online_lda.py:536: DeprecationWarning: The default value for 'learning_method' will be changed from 'online' to 'batch' in the release 0.20. This warning was introduced in 0.18.\n",
      "  DeprecationWarning)\n"
     ]
    },
    {
     "name": "stdout",
     "output_type": "stream",
     "text": [
      "Topic #0: metallica, iron maiden, ac/dc, megadeth, guns n' roses\n",
      "Topic #1: system of a down, in flames, koЯn, rammstein, nightwish\n",
      "Topic #2: die Ärzte, café tacuba, illya kuryaki and the valderramas, o teatro mágico, soda stereo\n",
      "Topic #3: muse, death cab for cutie, the killers, fall out boy, bloc party\n",
      "Topic #4: britney spears, the cardigans, madonna, rihanna, lady gaga\n",
      "Topic #5: garbage, metric, arctic monkeys, the kooks, dido\n",
      "Topic #6: lil wayne, sonata arctica, kamelot, nightwish, hilary duff\n",
      "Topic #7: o.s.t.r., bob marley, johann sebastian bach, ludwig van beethoven, the get up kids\n",
      "Topic #8: 梶浦由記, new order, thomas dybdahl, ray lamontagne, 植松伸夫\n",
      "Topic #9: pain of salvation, opeth, slayer, dream theater, judas priest\n",
      "Topic #10: nine inch nails, radiohead, the cure, queens of the stone age, the smashing pumpkins\n",
      "Topic #11: linkin park, rise against, nickelback, blink-182, the offspring\n",
      "Topic #12: depeche mode, daft punk, Последние Танки в Париже, coldplay, atb\n",
      "Topic #13: pink floyd, led zeppelin, the beatles, u2, red hot chili peppers\n",
      "Topic #14: kanye west, nouvelle vague, jay-z, madlib, j dilla\n",
      "Topic #15: the beatles, oasis, coldplay, radiohead, the pillbugs\n",
      "Topic #16: bad religion, nofx, rise against, rancid, sublime\n",
      "Topic #17: bob dylan, belle and sebastian, tom waits, elliott smith, the beatles\n",
      "Topic #18: the pillows, the devil wears prada, i killed the prom queen, a day to remember, bring me the horizon\n",
      "Topic #19: animal collective, broken social scene, stars, arcade fire, the most serene republic\n",
      "\n"
     ]
    }
   ],
   "source": [
    "# Run LDA model time3\n",
    "lda_3 = LatentDirichletAllocation(n_components=20, max_iter=10)\n",
    "lda_3.fit(user_item_sp_mat_1)\n",
    "lda_3.transform(user_item_sp_mat_1)\n",
    "print_top_words(lda_3, s_player.playerName, 5)"
   ]
  },
  {
   "cell_type": "markdown",
   "metadata": {},
   "source": [
    "## Extra interesting ideas(using neutral network to do the non-linear dimensions reduction)"
   ]
  },
  {
   "cell_type": "markdown",
   "metadata": {},
   "source": [
    "### Input user features on artist into a neural network and get a output with n dimensions which is latent features represent the style of the user. Do the same thing to artist and get a output represent the style of artist. The inner product of these latent  features is the play times. This is the process similar to LDA, but is non-linear. We hope this kind of non-linear model could explore more deep relationship between users and artists."
   ]
  },
  {
   "cell_type": "code",
   "execution_count": null,
   "metadata": {},
   "outputs": [],
   "source": []
  }
 ],
 "metadata": {
  "kernelspec": {
   "display_name": "Python 3",
   "language": "python",
   "name": "python3"
  },
  "language_info": {
   "codemirror_mode": {
    "name": "ipython",
    "version": 3
   },
   "file_extension": ".py",
   "mimetype": "text/x-python",
   "name": "python",
   "nbconvert_exporter": "python",
   "pygments_lexer": "ipython3",
   "version": "3.6.4"
  }
 },
 "nbformat": 4,
 "nbformat_minor": 2
}
